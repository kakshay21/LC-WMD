{
 "cells": [
  {
   "cell_type": "code",
   "execution_count": 1,
   "metadata": {
    "collapsed": true
   },
   "outputs": [],
   "source": [
    "import os\n",
    "import numpy as np\n",
    "import gensim\n",
    "from gensim.parsing.preprocessing import STOPWORDS\n",
    "from scipy.spatial.distance import euclidean\n",
    "from sklearn.metrics import euclidean_distances\n",
    "from gensim.corpora.dictionary import Dictionary\n",
    "from time import time\n",
    "import collections"
   ]
  },
  {
   "cell_type": "code",
   "execution_count": 2,
   "metadata": {},
   "outputs": [
    {
     "name": "stdout",
     "output_type": "stream",
     "text": [
      "['obama', 'speaks', 'media', 'illinois'] ['president', 'greets', 'press', 'chicago'] ['orange', 'favorite', 'fruit']\n"
     ]
    }
   ],
   "source": [
    "s1 = \"Obama speaks to the media in Illinois\".lower().split()\n",
    "s2 = \"The president greets the press in Chicago\".lower().split()\n",
    "s3 = 'Orange is my favorite fruit'.lower().split()\n",
    "s1 = [w for w in s1 if w not in STOPWORDS]\n",
    "s2 = [w for w in s2 if w not in STOPWORDS]\n",
    "s3 = [w for w in s3 if w not in STOPWORDS]\n",
    "print s1, s2, s3"
   ]
  },
  {
   "cell_type": "code",
   "execution_count": 3,
   "metadata": {
    "collapsed": true
   },
   "outputs": [],
   "source": [
    "from gensim.models.keyedvectors import KeyedVectors\n",
    "word_vectors = KeyedVectors.load(\"demo\") # Word2Vec model form Google"
   ]
  },
  {
   "cell_type": "code",
   "execution_count": 4,
   "metadata": {
    "collapsed": true
   },
   "outputs": [],
   "source": [
    "T2 = []\n",
    "E = word_vectors.syn0\n",
    "# print type(E)\n",
    "for word in s2:\n",
    "    T2.append(word_vectors[word])\n",
    "T2 = np.array(T2)\n",
    "# First Phase \n",
    "z = np.ndarray.min(np.dot(E, np.matrix.transpose(T2)), axis=1)"
   ]
  },
  {
   "cell_type": "code",
   "execution_count": 5,
   "metadata": {},
   "outputs": [
    {
     "name": "stdout",
     "output_type": "stream",
     "text": [
      "[1, 1, 1, 1]\n",
      "  (0, 0)\t1\n",
      "  (1, 0)\t1\n",
      "  (2, 0)\t1\n",
      "  (3, 0)\t1\n",
      "  (0, 0)\t-0.008399892\n",
      "  (0, 1)\t-0.15164171\n",
      "  (0, 2)\t0.07514371\n",
      "  (0, 3)\t-0.5405456\n",
      "  (0, 4)\t0.21797681\n",
      "  (0, 5)\t-0.09564027\n",
      "  (0, 6)\t-0.18323138\n",
      "  (0, 7)\t0.08555712\n",
      "  (0, 8)\t-0.06816511\n",
      "  (0, 9)\t-0.93265224\n",
      "  (0, 10)\t-0.10495938\n",
      "  (0, 11)\t0.025000483\n",
      "  (0, 12)\t0.16937137\n",
      "  (0, 13)\t-0.28537107\n",
      "  (0, 14)\t-0.0024469532\n",
      "  (0, 15)\t-0.78965384\n",
      "  (0, 16)\t-0.7305159\n",
      "  (0, 17)\t-0.12420394\n",
      "  (0, 18)\t-0.2655691\n",
      "  (0, 19)\t-0.025830299\n",
      "  (0, 20)\t-0.30485216\n",
      "  (0, 21)\t-1.0691215\n",
      "  (0, 22)\t-0.2207496\n",
      "  (0, 23)\t0.101854965\n",
      "  (0, 24)\t-0.2815596\n",
      "  :\t:\n",
      "  (0, 2999975)\t-0.22091864\n",
      "  (0, 2999976)\t-0.05359863\n",
      "  (0, 2999977)\t-0.13902688\n",
      "  (0, 2999978)\t0.04816141\n",
      "  (0, 2999979)\t-0.19187847\n",
      "  (0, 2999980)\t-0.5633564\n",
      "  (0, 2999981)\t0.05400318\n",
      "  (0, 2999982)\t-0.29158098\n",
      "  (0, 2999983)\t0.031208668\n",
      "  (0, 2999984)\t0.08738495\n",
      "  (0, 2999985)\t0.12362351\n",
      "  (0, 2999986)\t-0.021089658\n",
      "  (0, 2999987)\t-0.3859821\n",
      "  (0, 2999988)\t-0.059670664\n",
      "  (0, 2999989)\t-0.025391564\n",
      "  (0, 2999990)\t-0.0578171\n",
      "  (0, 2999991)\t0.19472875\n",
      "  (0, 2999992)\t-0.27672532\n",
      "  (0, 2999993)\t-0.043003492\n",
      "  (0, 2999994)\t-0.07687232\n",
      "  (0, 2999995)\t0.05623527\n",
      "  (0, 2999996)\t-0.13373509\n",
      "  (0, 2999997)\t-0.04910085\n",
      "  (0, 2999998)\t0.2463293\n",
      "  (0, 2999999)\t-0.20192647\n",
      "(1, 3000000) (4, 1)\n"
     ]
    }
   ],
   "source": [
    "from scipy import sparse\n",
    "freq1 = collections.Counter(s1)\n",
    "freq2 = collections.Counter(s2)\n",
    "xi = []\n",
    "xj = []\n",
    "for word in freq1:\n",
    "    xi.append(freq1[word])\n",
    "for word in freq2:\n",
    "    xj.append(freq2[word])\n",
    "\n",
    "print xi\n",
    "xi = sparse.csr_matrix(xi)\n",
    "xi = sparse.csr_matrix.transpose(xi)\n",
    "print xi\n",
    "z = sparse.csr_matrix(z)\n",
    "print z\n",
    "print np.shape(z), np.shape(xi)"
   ]
  },
  {
   "cell_type": "code",
   "execution_count": 6,
   "metadata": {
    "collapsed": true
   },
   "outputs": [],
   "source": [
    "d = sparse.csr_matrix.multiply(z, xi)"
   ]
  },
  {
   "cell_type": "code",
   "execution_count": 7,
   "metadata": {},
   "outputs": [
    {
     "name": "stdout",
     "output_type": "stream",
     "text": [
      "-5.3699116706848145 4.105744361877441\n"
     ]
    }
   ],
   "source": [
    "a = np.min(d)\n",
    "print a, np.max(d)"
   ]
  },
  {
   "cell_type": "code",
   "execution_count": 8,
   "metadata": {},
   "outputs": [
    {
     "name": "stdout",
     "output_type": "stream",
     "text": [
      "(4, 3000000)\n"
     ]
    }
   ],
   "source": [
    "print np.shape(d)"
   ]
  },
  {
   "cell_type": "code",
   "execution_count": null,
   "metadata": {
    "collapsed": true
   },
   "outputs": [],
   "source": []
  }
 ],
 "metadata": {
  "kernelspec": {
   "display_name": "Python 2",
   "language": "python",
   "name": "python2"
  },
  "language_info": {
   "codemirror_mode": {
    "name": "ipython",
    "version": 2
   },
   "file_extension": ".py",
   "mimetype": "text/x-python",
   "name": "python",
   "nbconvert_exporter": "python",
   "pygments_lexer": "ipython2",
   "version": "2.7.14"
  }
 },
 "nbformat": 4,
 "nbformat_minor": 2
}
